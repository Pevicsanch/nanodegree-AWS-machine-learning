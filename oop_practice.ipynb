{
 "cells": [
  {
   "cell_type": "markdown",
   "metadata": {},
   "source": [
    "# Introduction to Object-Oriented Programming\n",
    "____\n",
    "\n",
    "$~$\n",
    "\n",
    "### Exercise: Use the Shirt class\n",
    "\n",
    "_____"
   ]
  },
  {
   "cell_type": "code",
   "execution_count": 1,
   "metadata": {},
   "outputs": [],
   "source": [
    "class Shirt:\n",
    "\n",
    "    def __init__(self, shirt_color, shirt_size, shirt_style, shirt_price):\n",
    "        self.color = shirt_color\n",
    "        self.size = shirt_size\n",
    "        self.style = shirt_style\n",
    "        self.price = shirt_price\n",
    "    \n",
    "    def change_price(self, new_price):\n",
    "    \n",
    "        self.price = new_price\n",
    "        \n",
    "    def discount(self, discount):\n",
    "\n",
    "        return self.price * (1 - discount)\n"
   ]
  },
  {
   "cell_type": "code",
   "execution_count": 2,
   "metadata": {},
   "outputs": [],
   "source": [
    "### TODO:\n",
    "#    - insantiate a shirt object with the following characteristics:\n",
    "#        - color red, size S, style long-sleeve, and price 25\n",
    "#    - store the object in a variable called shirt_one\n",
    "\n",
    "shirt_one = Shirt(\"red\",\"s\",\"long-sleeve\",25)"
   ]
  },
  {
   "cell_type": "markdown",
   "metadata": {},
   "source": [
    "$~$\n",
    "\n",
    "print the price of the shirt using the price attribute\n",
    "\n",
    "$~$\n"
   ]
  },
  {
   "cell_type": "code",
   "execution_count": 3,
   "metadata": {},
   "outputs": [
    {
     "name": "stdout",
     "output_type": "stream",
     "text": [
      "25\n"
     ]
    }
   ],
   "source": [
    "print(shirt_one.price)"
   ]
  },
  {
   "cell_type": "markdown",
   "metadata": {},
   "source": [
    "$~$\n",
    "\n",
    "use the change_price method to change the price of the shirt to 10\n",
    "\n",
    "$~$"
   ]
  },
  {
   "cell_type": "code",
   "execution_count": 4,
   "metadata": {},
   "outputs": [],
   "source": [
    "shirt_one.change_price(10)"
   ]
  },
  {
   "cell_type": "markdown",
   "metadata": {},
   "source": [
    "$~$\n",
    "\n",
    "print the price of the shirt using the price attribute\n",
    "\n",
    "$~$"
   ]
  },
  {
   "cell_type": "code",
   "execution_count": 5,
   "metadata": {},
   "outputs": [
    {
     "name": "stdout",
     "output_type": "stream",
     "text": [
      "10\n"
     ]
    }
   ],
   "source": [
    "print(shirt_one.price)"
   ]
  },
  {
   "cell_type": "markdown",
   "metadata": {},
   "source": [
    "$~$\n",
    "\n",
    "use the discount method to print the price of the shirt with a 12% discount\n",
    "\n",
    "$~$"
   ]
  },
  {
   "cell_type": "code",
   "execution_count": 8,
   "metadata": {},
   "outputs": [
    {
     "name": "stdout",
     "output_type": "stream",
     "text": [
      "8.8\n"
     ]
    }
   ],
   "source": [
    "print(shirt_one.discount(.12))"
   ]
  },
  {
   "cell_type": "markdown",
   "metadata": {},
   "source": [
    "$~$\n",
    "\n",
    "instantiate another object with the following characteristics:\n",
    "\n",
    "+ color orange, size L, style short-sleeve, and price 10\n",
    " \n",
    "store the object in a variable called shirt_two\n",
    "\n",
    "$~$"
   ]
  },
  {
   "cell_type": "code",
   "execution_count": 9,
   "metadata": {},
   "outputs": [],
   "source": [
    "shirt_two = Shirt(\"orange\",\"l\",\"short-sleeve\",10)"
   ]
  },
  {
   "cell_type": "code",
   "execution_count": 10,
   "metadata": {},
   "outputs": [
    {
     "name": "stdout",
     "output_type": "stream",
     "text": [
      "orange\n",
      "l\n",
      "short-sleeve\n",
      "10\n"
     ]
    }
   ],
   "source": [
    "print(shirt_two.color)\n",
    "print(shirt_two.size)\n",
    "print(shirt_two.style)\n",
    "print(shirt_two.price)\n"
   ]
  },
  {
   "cell_type": "markdown",
   "metadata": {},
   "source": [
    "$~$\n",
    "\n",
    "+ calculate the total cost of shirt_one and shirt_two\n",
    "+ store the results in a variable called total\n",
    "\n",
    "$~$"
   ]
  },
  {
   "cell_type": "code",
   "execution_count": 11,
   "metadata": {},
   "outputs": [
    {
     "name": "stdout",
     "output_type": "stream",
     "text": [
      "20\n"
     ]
    }
   ],
   "source": [
    "total = shirt_one.price +shirt_two.price\n",
    "print(total)"
   ]
  },
  {
   "cell_type": "markdown",
   "metadata": {},
   "source": [
    "$~$\n",
    "\n",
    "- use the shirt discount method to calculate the total cost if shirt_one has a discount of 14% and shirt_two has a discount of 6% \n",
    "- store the results in a variable called total_discount\n",
    "\n",
    "$~$"
   ]
  },
  {
   "cell_type": "code",
   "execution_count": 12,
   "metadata": {},
   "outputs": [
    {
     "name": "stdout",
     "output_type": "stream",
     "text": [
      "18.0\n"
     ]
    }
   ],
   "source": [
    "total_discount = shirt_one.discount(.14) + shirt_two.discount(.06)\n",
    "print(total_discount)"
   ]
  },
  {
   "cell_type": "markdown",
   "metadata": {},
   "source": [
    "$~$\n",
    "\n",
    "### Exercise: Use the Pant class\n",
    "\n",
    "_____\n",
    "\n",
    "$~$\n",
    "\n",
    "Write a Pants class with the following characteristics:\n",
    "\n",
    "+ the class name should be Pants\n",
    "\n",
    "+ the class attributes should include:\n",
    "\n",
    "    +  color\n",
    "    +  waist_size\n",
    "    +  length\n",
    "    +  price\n",
    "\n",
    "$~$\n",
    "    \n",
    "+ the class should have an init function that initializes all of the attributes\n",
    "\n",
    "+ the class should have two methods:\n",
    "    + change_price() a method to change the price attribute\n",
    "    + discount() to calculate a discount\n",
    "\n",
    "$~$\n"
   ]
  },
  {
   "cell_type": "code",
   "execution_count": 13,
   "metadata": {},
   "outputs": [],
   "source": [
    "class Pants:\n",
    "    \n",
    "    def __init__(self,color,waist_size,length,price):\n",
    "        self.color = color\n",
    "        self.waist_size = waist_size\n",
    "        self.length = length\n",
    "        self.price = price\n",
    "    \n",
    "    def change_price(self,new_price):\n",
    "        self.price = new_price\n",
    "    \n",
    "    def discount(self,percentage):\n",
    "        return self.price * (1 - percentage)\n"
   ]
  },
  {
   "cell_type": "markdown",
   "metadata": {},
   "source": [
    "$~$\n",
    "\n",
    "### Exercise: SalesPerson class\n",
    "\n",
    "_____\n",
    "\n",
    "$~$\n",
    "\n",
    "The Pants class and Shirt class are quite similar. Here is an exercise to give you more practice writing a class. **This exercise is trickier than the previous exercises**.\n",
    "\n",
    "Write a SalesPerson class with the following characteristics:\n",
    "\n",
    "+ the class name should be SalesPerson\n",
    "+ the class attributes should include:\n",
    "    + first_name\n",
    "    + last_name\n",
    "    + employee_id\n",
    "    + salary\n",
    "    + pants_sold\n",
    "    + total_sales\n",
    "+ the class should have an init function that initializes all of the attributes\n",
    "+ the class should have four methods:\n",
    "    + sell_pants() a method to change the price attribute\n",
    "    + calculate_sales() a method to calculate the sales\n",
    "    + display_sales() a method to print out all the pants sold with nice formatting\n",
    "    + calculate_commission() a method to calculate the salesperson commission based on total sales and a percentage\n",
    "\n",
    "$~$"
   ]
  },
  {
   "cell_type": "code",
   "execution_count": null,
   "metadata": {},
   "outputs": [],
   "source": [
    "class SalesPerson:\n",
    "\n",
    "    def __init__(self, first_name, last_name, employee_id, salary):\n",
    "        self.first_name = first_name\n",
    "        self.last_name = last_name\n",
    "        self.employee_id = employee_id\n",
    "        self.salary = salary\n",
    "        self.pants_sold = []\n",
    "        self.total_sales = 0\n",
    "    \n",
    "    def sell_pats(self, pants_object):\n",
    "        self.pants_sold.append(pants_object)\n",
    "    \n",
    "    "
   ]
  }
 ],
 "metadata": {
  "kernelspec": {
   "display_name": "Python 3.9.5 64-bit ('3.9.5')",
   "language": "python",
   "name": "python3"
  },
  "language_info": {
   "codemirror_mode": {
    "name": "ipython",
    "version": 3
   },
   "file_extension": ".py",
   "mimetype": "text/x-python",
   "name": "python",
   "nbconvert_exporter": "python",
   "pygments_lexer": "ipython3",
   "version": "3.9.5"
  },
  "orig_nbformat": 4,
  "vscode": {
   "interpreter": {
    "hash": "c196e456b92eeb3a60b06f99b3c60ac6c4763f8bb1169beee1475ccb9dd5a29f"
   }
  }
 },
 "nbformat": 4,
 "nbformat_minor": 2
}
